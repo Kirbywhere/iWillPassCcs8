{
  "nbformat": 4,
  "nbformat_minor": 0,
  "metadata": {
    "colab": {
      "provenance": [],
      "authorship_tag": "ABX9TyMZ7jdigZTNxSIULw2DIZBH",
      "include_colab_link": true
    },
    "kernelspec": {
      "name": "python3",
      "display_name": "Python 3"
    },
    "language_info": {
      "name": "python"
    }
  },
  "cells": [
    {
      "cell_type": "markdown",
      "metadata": {
        "id": "view-in-github",
        "colab_type": "text"
      },
      "source": [
        "<a href=\"https://colab.research.google.com/github/Kirbywhere/iWillPassCcs8/blob/main/KirbyARM.ipynb\" target=\"_parent\"><img src=\"https://colab.research.google.com/assets/colab-badge.svg\" alt=\"Open In Colab\"/></a>"
      ]
    },
    {
      "cell_type": "code",
      "execution_count": null,
      "metadata": {
        "colab": {
          "base_uri": "https://localhost:8080/"
        },
        "id": "fTgHQfUD1d6I",
        "outputId": "3505df1a-8252-486a-8455-44d66b0cb1de"
      },
      "outputs": [
        {
          "output_type": "stream",
          "name": "stdout",
          "text": [
            "Requirement already satisfied: mlxtend in /usr/local/lib/python3.11/dist-packages (0.23.4)\n",
            "Requirement already satisfied: scipy>=1.2.1 in /usr/local/lib/python3.11/dist-packages (from mlxtend) (1.14.1)\n",
            "Requirement already satisfied: numpy>=1.16.2 in /usr/local/lib/python3.11/dist-packages (from mlxtend) (1.26.4)\n",
            "Requirement already satisfied: pandas>=0.24.2 in /usr/local/lib/python3.11/dist-packages (from mlxtend) (2.2.2)\n",
            "Requirement already satisfied: scikit-learn>=1.3.1 in /usr/local/lib/python3.11/dist-packages (from mlxtend) (1.6.1)\n",
            "Requirement already satisfied: matplotlib>=3.0.0 in /usr/local/lib/python3.11/dist-packages (from mlxtend) (3.10.0)\n",
            "Requirement already satisfied: joblib>=0.13.2 in /usr/local/lib/python3.11/dist-packages (from mlxtend) (1.4.2)\n",
            "Requirement already satisfied: contourpy>=1.0.1 in /usr/local/lib/python3.11/dist-packages (from matplotlib>=3.0.0->mlxtend) (1.3.1)\n",
            "Requirement already satisfied: cycler>=0.10 in /usr/local/lib/python3.11/dist-packages (from matplotlib>=3.0.0->mlxtend) (0.12.1)\n",
            "Requirement already satisfied: fonttools>=4.22.0 in /usr/local/lib/python3.11/dist-packages (from matplotlib>=3.0.0->mlxtend) (4.56.0)\n",
            "Requirement already satisfied: kiwisolver>=1.3.1 in /usr/local/lib/python3.11/dist-packages (from matplotlib>=3.0.0->mlxtend) (1.4.8)\n",
            "Requirement already satisfied: packaging>=20.0 in /usr/local/lib/python3.11/dist-packages (from matplotlib>=3.0.0->mlxtend) (24.2)\n",
            "Requirement already satisfied: pillow>=8 in /usr/local/lib/python3.11/dist-packages (from matplotlib>=3.0.0->mlxtend) (11.1.0)\n",
            "Requirement already satisfied: pyparsing>=2.3.1 in /usr/local/lib/python3.11/dist-packages (from matplotlib>=3.0.0->mlxtend) (3.2.1)\n",
            "Requirement already satisfied: python-dateutil>=2.7 in /usr/local/lib/python3.11/dist-packages (from matplotlib>=3.0.0->mlxtend) (2.8.2)\n",
            "Requirement already satisfied: pytz>=2020.1 in /usr/local/lib/python3.11/dist-packages (from pandas>=0.24.2->mlxtend) (2025.1)\n",
            "Requirement already satisfied: tzdata>=2022.7 in /usr/local/lib/python3.11/dist-packages (from pandas>=0.24.2->mlxtend) (2025.1)\n",
            "Requirement already satisfied: threadpoolctl>=3.1.0 in /usr/local/lib/python3.11/dist-packages (from scikit-learn>=1.3.1->mlxtend) (3.5.0)\n",
            "Requirement already satisfied: six>=1.5 in /usr/local/lib/python3.11/dist-packages (from python-dateutil>=2.7->matplotlib>=3.0.0->mlxtend) (1.17.0)\n"
          ]
        }
      ],
      "source": [
        "!pip install mlxtend"
      ]
    },
    {
      "cell_type": "code",
      "source": [
        "import pandas as pd\n",
        "from mlxtend.frequent_patterns import apriori, association_rules"
      ],
      "metadata": {
        "id": "H4cSU5F011mq"
      },
      "execution_count": null,
      "outputs": []
    },
    {
      "cell_type": "code",
      "source": [
        "data = {\n",
        "    'Milk': [1, 1, 0, 1],\n",
        "    'Bread': [1, 0, 1, 1],\n",
        "    'Butter': [0, 1, 1, 1],\n",
        "    'Eggs': [1, 1, 0, 1]\n",
        "}"
      ],
      "metadata": {
        "id": "7HdiR3mK1-wx"
      },
      "execution_count": null,
      "outputs": []
    },
    {
      "cell_type": "code",
      "source": [
        "df = pd.DataFrame(data)\n",
        "\n",
        "print(\"Dataset:\")\n",
        "print(df)"
      ],
      "metadata": {
        "colab": {
          "base_uri": "https://localhost:8080/"
        },
        "id": "HyRFTXxK2Bxr",
        "outputId": "53e3c38d-04c2-4021-b3b3-d96aab0ada8a"
      },
      "execution_count": null,
      "outputs": [
        {
          "output_type": "stream",
          "name": "stdout",
          "text": [
            "Dataset:\n",
            "   Milk  Bread  Butter  Eggs\n",
            "0     1      1       0     1\n",
            "1     1      0       1     1\n",
            "2     0      1       1     0\n",
            "3     1      1       1     1\n"
          ]
        }
      ]
    },
    {
      "cell_type": "code",
      "source": [
        "frequent_itemsets = apriori(df, min_support=0.5, use_colnames=True)\n",
        "print(\"\\nFrequent Itemsets:\")\n",
        "print(frequent_itemsets)"
      ],
      "metadata": {
        "colab": {
          "base_uri": "https://localhost:8080/"
        },
        "id": "QJuzEAZi2m95",
        "outputId": "25567150-3e8a-49fe-b527-3b8d01f6f4f7"
      },
      "execution_count": null,
      "outputs": [
        {
          "output_type": "stream",
          "name": "stdout",
          "text": [
            "\n",
            "Frequent Itemsets:\n",
            "    support              itemsets\n",
            "0      0.75                (Milk)\n",
            "1      0.75               (Bread)\n",
            "2      0.75              (Butter)\n",
            "3      0.75                (Eggs)\n",
            "4      0.50         (Bread, Milk)\n",
            "5      0.50        (Butter, Milk)\n",
            "6      0.75          (Milk, Eggs)\n",
            "7      0.50       (Butter, Bread)\n",
            "8      0.50         (Bread, Eggs)\n",
            "9      0.50        (Butter, Eggs)\n",
            "10     0.50   (Bread, Milk, Eggs)\n",
            "11     0.50  (Butter, Milk, Eggs)\n"
          ]
        }
      ]
    },
    {
      "cell_type": "code",
      "source": [
        "rules = association_rules(frequent_itemsets, metric=\"lift\", min_threshold=1.0)\n",
        "print(\"\\nAssociation Rules:\")\n",
        "print(rules[['antecedents', 'consequents', 'support', 'confidence', 'lift']])"
      ],
      "metadata": {
        "colab": {
          "base_uri": "https://localhost:8080/"
        },
        "id": "rYuafc7Q3Rh8",
        "outputId": "a38706eb-81a6-4944-ec38-8b89d08e4b4c"
      },
      "execution_count": null,
      "outputs": [
        {
          "output_type": "stream",
          "name": "stdout",
          "text": [
            "\n",
            "Association Rules:\n",
            "      antecedents     consequents  support  confidence      lift\n",
            "0          (Milk)          (Eggs)     0.75    1.000000  1.333333\n",
            "1          (Eggs)          (Milk)     0.75    1.000000  1.333333\n",
            "2   (Bread, Milk)          (Eggs)     0.50    1.000000  1.333333\n",
            "3   (Bread, Eggs)          (Milk)     0.50    1.000000  1.333333\n",
            "4          (Milk)   (Bread, Eggs)     0.50    0.666667  1.333333\n",
            "5          (Eggs)   (Bread, Milk)     0.50    0.666667  1.333333\n",
            "6  (Butter, Milk)          (Eggs)     0.50    1.000000  1.333333\n",
            "7  (Butter, Eggs)          (Milk)     0.50    1.000000  1.333333\n",
            "8          (Milk)  (Butter, Eggs)     0.50    0.666667  1.333333\n",
            "9          (Eggs)  (Butter, Milk)     0.50    0.666667  1.333333\n"
          ]
        }
      ]
    }
  ]
}